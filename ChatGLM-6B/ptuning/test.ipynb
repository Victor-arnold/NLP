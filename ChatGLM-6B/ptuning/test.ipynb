{
 "cells": [
  {
   "cell_type": "code",
   "execution_count": 1,
   "metadata": {},
   "outputs": [
    {
     "name": "stderr",
     "output_type": "stream",
     "text": [
      "/data1/maliang/miniconda3/envs/simRT1/lib/python3.8/site-packages/tqdm/auto.py:21: TqdmWarning: IProgress not found. Please update jupyter and ipywidgets. See https://ipywidgets.readthedocs.io/en/stable/user_install.html\n",
      "  from .autonotebook import tqdm as notebook_tqdm\n",
      "Explicitly passing a `revision` is encouraged when loading a model with custom code to ensure no malicious code has been contributed in a newer revision.\n"
     ]
    }
   ],
   "source": [
    "from transformers import AutoConfig, AutoModel, AutoTokenizer\n",
    "\n",
    "# 载入Tokenizer\n",
    "tokenizer = AutoTokenizer.from_pretrained(\"/data2/maliang/zhangkaidong/NLP/chatglm\", trust_remote_code=True)\n"
   ]
  },
  {
   "cell_type": "code",
   "execution_count": 2,
   "metadata": {},
   "outputs": [
    {
     "name": "stderr",
     "output_type": "stream",
     "text": [
      "Explicitly passing a `revision` is encouraged when loading a configuration with custom code to ensure no malicious code has been contributed in a newer revision.\n",
      "Explicitly passing a `revision` is encouraged when loading a model with custom code to ensure no malicious code has been contributed in a newer revision.\n"
     ]
    },
    {
     "name": "stdout",
     "output_type": "stream",
     "text": [
      "No compiled kernel found.\n",
      "Compiling kernels : /home/maliang_m23/.cache/huggingface/modules/transformers_modules/chatglm/quantization_kernels_parallel.c\n",
      "Compiling gcc -O3 -fPIC -pthread -fopenmp -std=c99 /home/maliang_m23/.cache/huggingface/modules/transformers_modules/chatglm/quantization_kernels_parallel.c -shared -o /home/maliang_m23/.cache/huggingface/modules/transformers_modules/chatglm/quantization_kernels_parallel.so\n",
      "Load kernel : /home/maliang_m23/.cache/huggingface/modules/transformers_modules/chatglm/quantization_kernels_parallel.so\n",
      "Setting CPU quantization kernel threads to 32\n",
      "Using quantization cache\n",
      "Applying quantization to glm layers\n"
     ]
    },
    {
     "name": "stderr",
     "output_type": "stream",
     "text": [
      "Some weights of ChatGLMForConditionalGeneration were not initialized from the model checkpoint at /data2/maliang/zhangkaidong/NLP/chatglm and are newly initialized: ['transformer.prefix_encoder.embedding.weight']\n",
      "You should probably TRAIN this model on a down-stream task to be able to use it for predictions and inference.\n"
     ]
    },
    {
     "data": {
      "text/plain": [
       "<All keys matched successfully>"
      ]
     },
     "execution_count": 2,
     "metadata": {},
     "output_type": "execute_result"
    }
   ],
   "source": [
    "import os\n",
    "import torch\n",
    "config = AutoConfig.from_pretrained(\"/data2/maliang/zhangkaidong/NLP/chatglm\", trust_remote_code=True, pre_seq_len=128)\n",
    "model = AutoModel.from_pretrained(\"/data2/maliang/zhangkaidong/NLP/chatglm\", config=config, trust_remote_code=True)\n",
    "prefix_state_dict = torch.load(os.path.join('/data2/maliang/zhangkaidong/NLP/ChatGLM-6B/ptuning/output/adgen-chatglm-6b-pt-128-2e-2/checkpoint-10000', \"pytorch_model.bin\"))\n",
    "new_prefix_state_dict = {}\n",
    "for k, v in prefix_state_dict.items():\n",
    "    if k.startswith(\"transformer.prefix_encoder.\"):\n",
    "        new_prefix_state_dict[k[len(\"transformer.prefix_encoder.\"):]] = v\n",
    "model.transformer.prefix_encoder.load_state_dict(new_prefix_state_dict)"
   ]
  },
  {
   "cell_type": "code",
   "execution_count": 3,
   "metadata": {},
   "outputs": [
    {
     "name": "stdout",
     "output_type": "stream",
     "text": [
      "No compiled kernel found.\n",
      "Compiling kernels : /home/maliang_m23/.cache/huggingface/modules/transformers_modules/chatglm/quantization_kernels_parallel.c\n",
      "Compiling gcc -O3 -fPIC -pthread -fopenmp -std=c99 /home/maliang_m23/.cache/huggingface/modules/transformers_modules/chatglm/quantization_kernels_parallel.c -shared -o /home/maliang_m23/.cache/huggingface/modules/transformers_modules/chatglm/quantization_kernels_parallel.so\n",
      "Load kernel : /home/maliang_m23/.cache/huggingface/modules/transformers_modules/chatglm/quantization_kernels_parallel.so\n",
      "Setting CPU quantization kernel threads to 32\n"
     ]
    },
    {
     "name": "stderr",
     "output_type": "stream",
     "text": [
      "The dtype of attention mask (torch.int64) is not bool\n"
     ]
    }
   ],
   "source": [
    "# Comment out the following line if you don't use quantization\n",
    "model = model.quantize(4)\n",
    "model = model.half().cuda()\n",
    "model.transformer.prefix_encoder.float()\n",
    "model = model.eval()\n",
    "\n",
    "response, history = model.chat(tokenizer, \"你好\", history=[])"
   ]
  },
  {
   "cell_type": "code",
   "execution_count": 8,
   "metadata": {},
   "outputs": [
    {
     "name": "stdout",
     "output_type": "stream",
     "text": [
      "机械设计基础的作者是杨可桢，徐克勤\n",
      "华瑞国际城的主力户型是95、133平方米两室 三室\n",
      "精弘的创立于是杭州\n"
     ]
    }
   ],
   "source": [
    "response, history = model.chat(tokenizer, \"《机械设计基础》这本书的作者是谁？\", history=[])\n",
    "print(response)\n",
    "response, history = model.chat(tokenizer, \"华瑞国际城的户型有哪些？\", history=[])\n",
    "print(response)\n",
    "response, history = model.chat(tokenizer, \"精弘创立于哪？\", history=[])\n",
    "print(response)\n"
   ]
  },
  {
   "cell_type": "code",
   "execution_count": 35,
   "metadata": {},
   "outputs": [
    {
     "name": "stdout",
     "output_type": "stream",
     "text": [
      "人和网的创立者是阿里巴巴前创业团队资深成员\n",
      "人和网的创立者是阿里巴巴前创业团队资深成员\n"
     ]
    }
   ],
   "source": [
    "response, history = model.chat(tokenizer, \"人和网是由谁创立的？\", history=[])\n",
    "print(response)\n",
    "response, history = model.chat(tokenizer, \"有个网络平台叫人和网，以'人脉成就事业'为理念,它是谁创立的\", history=history)\n",
    "print(response)"
   ]
  },
  {
   "cell_type": "code",
   "execution_count": null,
   "metadata": {},
   "outputs": [],
   "source": [
    "impo"
   ]
  }
 ],
 "metadata": {
  "kernelspec": {
   "display_name": "simRT1",
   "language": "python",
   "name": "python3"
  },
  "language_info": {
   "codemirror_mode": {
    "name": "ipython",
    "version": 3
   },
   "file_extension": ".py",
   "mimetype": "text/x-python",
   "name": "python",
   "nbconvert_exporter": "python",
   "pygments_lexer": "ipython3",
   "version": "3.8.16"
  },
  "orig_nbformat": 4
 },
 "nbformat": 4,
 "nbformat_minor": 2
}
